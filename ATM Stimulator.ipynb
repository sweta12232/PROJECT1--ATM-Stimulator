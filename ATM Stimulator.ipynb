{
 "cells": [
  {
   "cell_type": "markdown",
   "id": "21c8c3a4",
   "metadata": {},
   "source": [
    "# ATM Stimulator"
   ]
  },
  {
   "cell_type": "code",
   "execution_count": null,
   "id": "2b28f45d",
   "metadata": {},
   "outputs": [
    {
     "name": "stdout",
     "output_type": "stream",
     "text": [
      "Welcome to Sweta's bank \n",
      "Enter the name: Bishnu Sharma\n",
      "Enter the user_pin: 1234\n",
      "\n",
      "\n",
      "Hello Bishnu Sharma,  welcome to our service.\n",
      "Enter 1: To check Balance\n",
      "Enter 2: To Deposit Money\n",
      "Enter 3: To Withdraw Money\n",
      "Enter 4: To exit\n",
      "\n",
      " Enter appropriate number to proceed with your request:1\n",
      "Your current money is 1000\n",
      "Hello Bishnu Sharma,  welcome to our service.\n",
      "Enter 1: To check Balance\n",
      "Enter 2: To Deposit Money\n",
      "Enter 3: To Withdraw Money\n",
      "Enter 4: To exit\n",
      "\n",
      " Enter appropriate number to proceed with your request:2\n",
      "Enter the amount you want to add:10000000000\n",
      "The amount 10000000000 is sucessfully deposited in your account. Your new balance is 10000001000\n",
      " \n",
      "Hello Bishnu Sharma,  welcome to our service.\n",
      "Enter 1: To check Balance\n",
      "Enter 2: To Deposit Money\n",
      "Enter 3: To Withdraw Money\n",
      "Enter 4: To exit\n",
      "\n"
     ]
    }
   ],
   "source": [
    "print(\"Welcome to Sweta's bank \")\n",
    "balance = 1000\n",
    "user_pin = \"1234\"\n",
    "name = (input(\"Enter the name: \"))\n",
    "pin = (input(\"Enter the user_pin: \"))\n",
    "if pin != user_pin:\n",
    "    print(\"Your pin is wrong\\n\")\n",
    "    atm_on = False\n",
    "    \n",
    "else:\n",
    "    atm_on = True   \n",
    "    print(\"\\n\")\n",
    "   \n",
    "while atm_on:\n",
    "    \n",
    "    print(f'Hello {name},  welcome to our service.')\n",
    "    print(\"Enter 1: To check Balance\")\n",
    "    print(\"Enter 2: To Deposit Money\")\n",
    "    print(\"Enter 3: To Withdraw Money\")\n",
    "    print(\"Enter 4: To exit\\n\")\n",
    "    select = int(input(\" Enter appropriate number to proceed with your request:\"))\n",
    "    if select == 1:\n",
    "        print(f'Your current money is {balance}')        \n",
    "    elif select == 2:\n",
    "        amount = int(input(\"Enter the amount you want to add:\" )) \n",
    "        balance = amount + balance\n",
    "        print(f'The amount {amount } is sucessfully deposited in your account. Your new balance is {balance}\\n ')    \n",
    "    elif select == 3:\n",
    "         amount = int(input(\"Enter the amount you want to withdraw:\"))\n",
    "         if balance > amount:\n",
    "                balance = balance - amount\n",
    "                print(f'The amount Nrs. {amount} is successfully credited. Your new balance is {balance}\\n')\n",
    "         else:\n",
    "                print(\"You have not sufficent balance\\n\")          \n",
    "    elif select == 4:\n",
    "        atm_on = False\n",
    "        print(\"Thank you for taking our service \\n\" )\n",
    "    else:\n",
    "        print(\"Please enter valid Number. Thank you!\")\n",
    "        \n",
    "          \n",
    "     \n",
    "\n",
    "    "
   ]
  },
  {
   "cell_type": "code",
   "execution_count": null,
   "id": "aafe6316",
   "metadata": {},
   "outputs": [],
   "source": []
  },
  {
   "cell_type": "code",
   "execution_count": null,
   "id": "425d0597",
   "metadata": {},
   "outputs": [],
   "source": []
  }
 ],
 "metadata": {
  "kernelspec": {
   "display_name": "Python 3 (ipykernel)",
   "language": "python",
   "name": "python3"
  },
  "language_info": {
   "codemirror_mode": {
    "name": "ipython",
    "version": 3
   },
   "file_extension": ".py",
   "mimetype": "text/x-python",
   "name": "python",
   "nbconvert_exporter": "python",
   "pygments_lexer": "ipython3",
   "version": "3.11.7"
  }
 },
 "nbformat": 4,
 "nbformat_minor": 5
}
